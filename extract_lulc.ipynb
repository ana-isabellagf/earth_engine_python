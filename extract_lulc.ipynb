{
  "cells": [
    {
      "cell_type": "markdown",
      "metadata": {
        "id": "view-in-github",
        "colab_type": "text"
      },
      "source": [
        "<a href=\"https://colab.research.google.com/github/ana-isabellagf/earth_engine_python/blob/main/extract_lulc.ipynb\" target=\"_parent\"><img src=\"https://colab.research.google.com/assets/colab-badge.svg\" alt=\"Open In Colab\"/></a>"
      ]
    },
    {
      "cell_type": "markdown",
      "source": [
        "# **Série temporal do Uso e Cobertura do Solo (LULC)**\n",
        "## **Extração e visualização**\n",
        "\n",
        "Fiz um artigo no Medium falando sobre esse código, aqui está: [Série temporal LULC](https://medium.com/@aisabellaguimaraesf/série-temporal-do-uso-e-cobertura-do-solo-lulc-extração-e-visualização-52c59c5e0998)\n",
        "\n",
        "Autor: Ana Isabella Guimarães Ferreira (aisabellaguimaraesf@gmail.com)\n",
        "\n",
        "LinkedIn: www.linkedin.com/in/ana-isabella-g-ferreira\n"
      ],
      "metadata": {
        "id": "0PMPM_eZ2lH5"
      }
    },
    {
      "cell_type": "code",
      "execution_count": 1,
      "metadata": {
        "colab": {
          "base_uri": "https://localhost:8080/"
        },
        "id": "jWOp9EqlXRtv",
        "outputId": "fa09e7e1-3854-4667-821f-34b8f93f217b"
      },
      "outputs": [
        {
          "output_type": "stream",
          "name": "stdout",
          "text": [
            "Mounted at /content/drive\n"
          ]
        }
      ],
      "source": [
        "from google.colab import drive\n",
        "drive.mount('/content/drive')"
      ]
    },
    {
      "cell_type": "code",
      "execution_count": 2,
      "metadata": {
        "colab": {
          "base_uri": "https://localhost:8080/"
        },
        "id": "IDNxYH5grvOW",
        "outputId": "bc828cec-d9b6-4e9d-dcd2-1a520d06e723"
      },
      "outputs": [
        {
          "output_type": "stream",
          "name": "stdout",
          "text": [
            "\u001b[2K   \u001b[90m━━━━━━━━━━━━━━━━━━━━━━━━━━━━━━━━━━━━━━━━\u001b[0m \u001b[32m21.5/21.5 MB\u001b[0m \u001b[31m46.1 MB/s\u001b[0m eta \u001b[36m0:00:00\u001b[0m\n",
            "\u001b[?25h"
          ]
        }
      ],
      "source": [
        "!pip install -q rasterio"
      ]
    },
    {
      "cell_type": "code",
      "execution_count": 10,
      "metadata": {
        "id": "Qbwo2NRUUxkw",
        "colab": {
          "base_uri": "https://localhost:8080/",
          "height": 17
        },
        "outputId": "44e335d6-8e95-481f-8f46-04e89235007e"
      },
      "outputs": [
        {
          "output_type": "display_data",
          "data": {
            "text/plain": [
              "<IPython.core.display.HTML object>"
            ],
            "text/html": [
              "\n",
              "            <style>\n",
              "                .geemap-dark {\n",
              "                    --jp-widgets-color: white;\n",
              "                    --jp-widgets-label-color: white;\n",
              "                    --jp-ui-font-color1: white;\n",
              "                    --jp-layout-color2: #454545;\n",
              "                    background-color: #383838;\n",
              "                }\n",
              "\n",
              "                .geemap-dark .jupyter-button {\n",
              "                    --jp-layout-color3: #383838;\n",
              "                }\n",
              "\n",
              "                .geemap-colab {\n",
              "                    background-color: var(--colab-primary-surface-color, white);\n",
              "                }\n",
              "\n",
              "                .geemap-colab .jupyter-button {\n",
              "                    --jp-layout-color3: var(--colab-primary-surface-color, white);\n",
              "                }\n",
              "            </style>\n",
              "            "
            ]
          },
          "metadata": {}
        }
      ],
      "source": [
        "# Requirements\n",
        "import time\n",
        "import os\n",
        "import geopandas as gpd\n",
        "import pandas as pd\n",
        "import rasterio\n",
        "from rasterio import features\n",
        "from rasterio.mask import mask\n",
        "import geemap\n",
        "from shapely.geometry import shape\n",
        "import folium\n",
        "from folium.plugins import TimestampedGeoJson\n",
        "from shapely.geometry import mapping\n",
        "import ee\n",
        "\n",
        "# Trigger the authentication flow.\n",
        "ee.Authenticate()\n",
        "\n",
        "# Initialize the library.\n",
        "ee.Initialize(project='my-project')"
      ]
    },
    {
      "cell_type": "code",
      "execution_count": 4,
      "metadata": {
        "colab": {
          "base_uri": "https://localhost:8080/",
          "height": 17
        },
        "id": "X_YSzNNTsZs9",
        "outputId": "dfc25020-c007-4b0f-c230-23426c925f9a"
      },
      "outputs": [
        {
          "output_type": "display_data",
          "data": {
            "text/plain": [
              "<IPython.core.display.HTML object>"
            ],
            "text/html": [
              "\n",
              "            <style>\n",
              "                .geemap-dark {\n",
              "                    --jp-widgets-color: white;\n",
              "                    --jp-widgets-label-color: white;\n",
              "                    --jp-ui-font-color1: white;\n",
              "                    --jp-layout-color2: #454545;\n",
              "                    background-color: #383838;\n",
              "                }\n",
              "\n",
              "                .geemap-dark .jupyter-button {\n",
              "                    --jp-layout-color3: #383838;\n",
              "                }\n",
              "\n",
              "                .geemap-colab {\n",
              "                    background-color: var(--colab-primary-surface-color, white);\n",
              "                }\n",
              "\n",
              "                .geemap-colab .jupyter-button {\n",
              "                    --jp-layout-color3: var(--colab-primary-surface-color, white);\n",
              "                }\n",
              "            </style>\n",
              "            "
            ]
          },
          "metadata": {}
        }
      ],
      "source": [
        "# CRS CODE - Brazil Data Cube\n",
        "# https://brazil-data-cube.github.io/products/specifications/bdc-grid.html\n",
        "crs_code = '+proj=aea +lat_0=-12 +lon_0=-54 +lat_1=-2 +lat_2=-22 +x_0=5000000 +y_0=10000000 +ellps=GRS80 +units=m +no_defs'"
      ]
    },
    {
      "cell_type": "code",
      "source": [
        "def extract_lulc_images(start_year, end_year, geom, aoi, crs_code):\n",
        "    \"\"\"\n",
        "    Extrai imagens LULC do Earth Engine para uma área de interesse e retorna um dicionário de GeoDataFrames por ano.\n",
        "\n",
        "    Args:\n",
        "        start_year (int): Ano inicial.\n",
        "        end_year (int): Ano final.\n",
        "        geom (ee.Geometry): Geometria da área de interesse.\n",
        "        aoi (gpd.GeoDataFrame): GeoDataFrame com os limites da área de interesse.\n",
        "        crs_code (str): Código CRS para os GeoDataFrames resultantes.\n",
        "\n",
        "    Returns:\n",
        "        dict: Dicionário contendo GeoDataFrames de LULC por ano.\n",
        "    \"\"\"\n",
        "    lulc_by_year = {}\n",
        "\n",
        "    # Obter o tempo inicial\n",
        "    start_time = time.time()\n",
        "\n",
        "    for ano in range(start_year, end_year + 1):\n",
        "        # Acessar o asset do Mapbiomas\n",
        "        dataset = ee.Image('projects/mapbiomas-workspace/public/collection8/mapbiomas_collection80_integration_v1').select(f'classification_{ano}').clip(geom)\n",
        "        output_filename = f'temp_mapbiomas_{ano}.tif'\n",
        "        geemap.ee_export_image(dataset, output_filename, scale=30, crs=\"EPSG:4326\", region=geom)\n",
        "\n",
        "        # Abrir a imagem localmente usando rasterio\n",
        "        with rasterio.open(output_filename) as src:\n",
        "            # Cortando o raster usando os limites do GeoDataFrame 'area'\n",
        "            out_image, out_transform = mask(src, aoi.geometry, crop=True)\n",
        "            out_meta = src.meta.copy()\n",
        "\n",
        "        # Criar um rasterio feature object com o mapbiomas\n",
        "        shapes = features.shapes(out_image[0], transform=out_transform)\n",
        "\n",
        "        # Listas vazias para armazenar classes de LULC e geometrias\n",
        "        value_class = []\n",
        "        geometry = []\n",
        "\n",
        "        # Preencher as listas com as geometrias e valores das classes\n",
        "        for shapedict, value in shapes:\n",
        "            value_class.append(value)\n",
        "            geometry.append(shape(shapedict))\n",
        "\n",
        "        # Criar um GeoDataframe com os valores das classes e geometria\n",
        "        lulc_gdf = gpd.GeoDataFrame({f'lulc_{ano}': value_class, 'geometry': geometry}, crs=crs_code)\n",
        "\n",
        "        # Armazenar o GeoDataFrame no dicionário\n",
        "        lulc_by_year[ano] = lulc_gdf\n",
        "\n",
        "        # Remover o arquivo TIFF temporário\n",
        "        os.remove(output_filename)\n",
        "\n",
        "    # Obter o tempo final\n",
        "    end_time = time.time()\n",
        "\n",
        "    # Calcular e exibir o tempo de execução\n",
        "    execution_time = end_time - start_time\n",
        "    print(f\"Tempo de execução: {execution_time} segundos\")\n",
        "\n",
        "    return lulc_by_year\n",
        "\n",
        "# Área de interesse\n",
        "aoi = gpd.read_file('aoi_lulc_dynamic.zip')\n",
        "\n",
        "# Geometrias para extração dos dados\n",
        "bounds = aoi.geometry.total_bounds\n",
        "geom = ee.Geometry.Rectangle(bounds.tolist())\n",
        "\n",
        "# Aplicando a função\n",
        "lulc_by_year = extract_lulc_images(1985, 2022, geom, aoi, crs_code)"
      ],
      "metadata": {
        "colab": {
          "base_uri": "https://localhost:8080/",
          "height": 1000
        },
        "id": "H-fZEZn9OmuY",
        "outputId": "e72920d7-d651-4451-98d1-0afb619ac4dc"
      },
      "execution_count": 5,
      "outputs": [
        {
          "output_type": "display_data",
          "data": {
            "text/plain": [
              "<IPython.core.display.HTML object>"
            ],
            "text/html": [
              "\n",
              "            <style>\n",
              "                .geemap-dark {\n",
              "                    --jp-widgets-color: white;\n",
              "                    --jp-widgets-label-color: white;\n",
              "                    --jp-ui-font-color1: white;\n",
              "                    --jp-layout-color2: #454545;\n",
              "                    background-color: #383838;\n",
              "                }\n",
              "\n",
              "                .geemap-dark .jupyter-button {\n",
              "                    --jp-layout-color3: #383838;\n",
              "                }\n",
              "\n",
              "                .geemap-colab {\n",
              "                    background-color: var(--colab-primary-surface-color, white);\n",
              "                }\n",
              "\n",
              "                .geemap-colab .jupyter-button {\n",
              "                    --jp-layout-color3: var(--colab-primary-surface-color, white);\n",
              "                }\n",
              "            </style>\n",
              "            "
            ]
          },
          "metadata": {}
        },
        {
          "output_type": "stream",
          "name": "stdout",
          "text": [
            "Generating URL ...\n",
            "Downloading data from https://earthengine.googleapis.com/v1/projects/ee-aisabellaguimaraesf/thumbnails/e1470e8909cfc69d836721b815a5301c-6859bc94ed5bb2360b57996e5f182f21:getPixels\n",
            "Please wait ...\n",
            "Data downloaded to /content/temp_mapbiomas_1985.tif\n",
            "Generating URL ...\n",
            "Downloading data from https://earthengine.googleapis.com/v1/projects/ee-aisabellaguimaraesf/thumbnails/49da339d5668d91f0ca7434571d16e15-3c8b4ca2642a3a61a0eb51110834c832:getPixels\n",
            "Please wait ...\n",
            "Data downloaded to /content/temp_mapbiomas_1986.tif\n",
            "Generating URL ...\n",
            "Downloading data from https://earthengine.googleapis.com/v1/projects/ee-aisabellaguimaraesf/thumbnails/7a9711804a1d0b20e7dd089f319f03f2-171a000a17fb7920c2db57a8fd1d1d84:getPixels\n",
            "Please wait ...\n",
            "Data downloaded to /content/temp_mapbiomas_1987.tif\n",
            "Generating URL ...\n",
            "Downloading data from https://earthengine.googleapis.com/v1/projects/ee-aisabellaguimaraesf/thumbnails/d15cb9358ee5f984938fe6e760dd4e51-d128f4496753ae37f093b5d7ee1c1120:getPixels\n",
            "Please wait ...\n",
            "Data downloaded to /content/temp_mapbiomas_1988.tif\n",
            "Generating URL ...\n",
            "Downloading data from https://earthengine.googleapis.com/v1/projects/ee-aisabellaguimaraesf/thumbnails/63dfee19aa7206e37a3d9a20f8d39587-c33f6a0742c280a75db25fa55b22d246:getPixels\n",
            "Please wait ...\n",
            "Data downloaded to /content/temp_mapbiomas_1989.tif\n",
            "Generating URL ...\n",
            "Downloading data from https://earthengine.googleapis.com/v1/projects/ee-aisabellaguimaraesf/thumbnails/ba91c22d6eb281cb497d9efae4e49989-2a194452ad9a58733948ecd4ded23166:getPixels\n",
            "Please wait ...\n",
            "Data downloaded to /content/temp_mapbiomas_1990.tif\n",
            "Generating URL ...\n",
            "Downloading data from https://earthengine.googleapis.com/v1/projects/ee-aisabellaguimaraesf/thumbnails/a267415154cc2ee5d5a53497727986b0-bf85d2744aa9d05fd91be76c9ba1482e:getPixels\n",
            "Please wait ...\n",
            "Data downloaded to /content/temp_mapbiomas_1991.tif\n",
            "Generating URL ...\n",
            "Downloading data from https://earthengine.googleapis.com/v1/projects/ee-aisabellaguimaraesf/thumbnails/42fdbfc500b5c2c90bc6bfd413d699e6-ad0d82cb074a4b08290b047cd36cf33f:getPixels\n",
            "Please wait ...\n",
            "Data downloaded to /content/temp_mapbiomas_1992.tif\n",
            "Generating URL ...\n",
            "Downloading data from https://earthengine.googleapis.com/v1/projects/ee-aisabellaguimaraesf/thumbnails/ca701675c6b8f321e4aba4e584b4d954-424379cd020902804141dcb10bf6449c:getPixels\n",
            "Please wait ...\n",
            "Data downloaded to /content/temp_mapbiomas_1993.tif\n",
            "Generating URL ...\n",
            "Downloading data from https://earthengine.googleapis.com/v1/projects/ee-aisabellaguimaraesf/thumbnails/a7229a309a44c3229132779d82a2ec46-849722043f83ac0af9eb43e1869b351f:getPixels\n",
            "Please wait ...\n",
            "Data downloaded to /content/temp_mapbiomas_1994.tif\n",
            "Generating URL ...\n",
            "Downloading data from https://earthengine.googleapis.com/v1/projects/ee-aisabellaguimaraesf/thumbnails/12f89c7655a00c8e7f5ec199ee2f848f-64f4b6967872f14e5062328e29d0aef1:getPixels\n",
            "Please wait ...\n",
            "Data downloaded to /content/temp_mapbiomas_1995.tif\n",
            "Generating URL ...\n",
            "Downloading data from https://earthengine.googleapis.com/v1/projects/ee-aisabellaguimaraesf/thumbnails/d8c002c7026db94cb7ecb3365dc134e0-687eb166ba795bae09506663dd66e253:getPixels\n",
            "Please wait ...\n",
            "Data downloaded to /content/temp_mapbiomas_1996.tif\n",
            "Generating URL ...\n",
            "Downloading data from https://earthengine.googleapis.com/v1/projects/ee-aisabellaguimaraesf/thumbnails/6b35144559288d859798f0ac8b48c20f-9e9e490e0619cf836e37bf54bdd3cb48:getPixels\n",
            "Please wait ...\n",
            "Data downloaded to /content/temp_mapbiomas_1997.tif\n",
            "Generating URL ...\n",
            "Downloading data from https://earthengine.googleapis.com/v1/projects/ee-aisabellaguimaraesf/thumbnails/5f0408e63efa3ecb8c3b59402cd448c3-a1d03fb41b43342731c2758363a69f16:getPixels\n",
            "Please wait ...\n",
            "Data downloaded to /content/temp_mapbiomas_1998.tif\n",
            "Generating URL ...\n",
            "Downloading data from https://earthengine.googleapis.com/v1/projects/ee-aisabellaguimaraesf/thumbnails/281d736e1cabd1504443fbadb128a4c3-83d328a15ae94e9cef70dd803b6c29f5:getPixels\n",
            "Please wait ...\n",
            "Data downloaded to /content/temp_mapbiomas_1999.tif\n",
            "Generating URL ...\n",
            "Downloading data from https://earthengine.googleapis.com/v1/projects/ee-aisabellaguimaraesf/thumbnails/de8d1b4176f5d0f1abab2b1cef564f16-9e0a6f9e1e561b550f3859d1f13b27b6:getPixels\n",
            "Please wait ...\n",
            "Data downloaded to /content/temp_mapbiomas_2000.tif\n",
            "Generating URL ...\n",
            "Downloading data from https://earthengine.googleapis.com/v1/projects/ee-aisabellaguimaraesf/thumbnails/74f910d525a0e9d88ae398da044f26d7-12edf2d2ba782cdf8aa7e8f5aaf55549:getPixels\n",
            "Please wait ...\n",
            "Data downloaded to /content/temp_mapbiomas_2001.tif\n",
            "Generating URL ...\n",
            "Downloading data from https://earthengine.googleapis.com/v1/projects/ee-aisabellaguimaraesf/thumbnails/5544192e4c695dff212d1dcef3897cba-527413cf8a573fb306d4e37ea2bbb0a0:getPixels\n",
            "Please wait ...\n",
            "Data downloaded to /content/temp_mapbiomas_2002.tif\n",
            "Generating URL ...\n",
            "Downloading data from https://earthengine.googleapis.com/v1/projects/ee-aisabellaguimaraesf/thumbnails/46b5fbed3202b33f67a3c34d8bd83c8b-8d97295b62c47f330ced3ca1e2ab5b89:getPixels\n",
            "Please wait ...\n",
            "Data downloaded to /content/temp_mapbiomas_2003.tif\n",
            "Generating URL ...\n",
            "Downloading data from https://earthengine.googleapis.com/v1/projects/ee-aisabellaguimaraesf/thumbnails/b6dd7d0e31887df44fd09b6c1c193acc-3f90594e7257a35f0f3cf83ab177744d:getPixels\n",
            "Please wait ...\n",
            "Data downloaded to /content/temp_mapbiomas_2004.tif\n",
            "Generating URL ...\n",
            "Downloading data from https://earthengine.googleapis.com/v1/projects/ee-aisabellaguimaraesf/thumbnails/b56f6525a9094e0b2250787684e47739-4e8a74beeed5a856a2e10081a4346dad:getPixels\n",
            "Please wait ...\n",
            "Data downloaded to /content/temp_mapbiomas_2005.tif\n",
            "Generating URL ...\n",
            "Downloading data from https://earthengine.googleapis.com/v1/projects/ee-aisabellaguimaraesf/thumbnails/fc394b3b4a774a8dd0828bcc8c3a751b-b0b8ad024268161f87e013ae3d209550:getPixels\n",
            "Please wait ...\n",
            "Data downloaded to /content/temp_mapbiomas_2006.tif\n",
            "Generating URL ...\n",
            "Downloading data from https://earthengine.googleapis.com/v1/projects/ee-aisabellaguimaraesf/thumbnails/123439ea95fa253dacb0d1972fa2d41b-c697662d53b3cc98e05ae5d0c6b8e102:getPixels\n",
            "Please wait ...\n",
            "Data downloaded to /content/temp_mapbiomas_2007.tif\n",
            "Generating URL ...\n",
            "Downloading data from https://earthengine.googleapis.com/v1/projects/ee-aisabellaguimaraesf/thumbnails/7dfa1ecd6c780f007c3e310f90b35ebd-88d595558ffa84cb0cba4496eb7819bb:getPixels\n",
            "Please wait ...\n",
            "Data downloaded to /content/temp_mapbiomas_2008.tif\n",
            "Generating URL ...\n",
            "Downloading data from https://earthengine.googleapis.com/v1/projects/ee-aisabellaguimaraesf/thumbnails/997d6f9c62a08beb74885c0552dac5cb-07509c9631d96b4bdde21e15eb011cb6:getPixels\n",
            "Please wait ...\n",
            "Data downloaded to /content/temp_mapbiomas_2009.tif\n",
            "Generating URL ...\n",
            "Downloading data from https://earthengine.googleapis.com/v1/projects/ee-aisabellaguimaraesf/thumbnails/527bf28105609ee52bbe75b047ead1bd-3be57b38b10bd513f47af77cd6b90a05:getPixels\n",
            "Please wait ...\n",
            "Data downloaded to /content/temp_mapbiomas_2010.tif\n",
            "Generating URL ...\n",
            "Downloading data from https://earthengine.googleapis.com/v1/projects/ee-aisabellaguimaraesf/thumbnails/44eb5498477015da73a6b2abaffb3a5a-afb6e65a6dc1e6fe88cba167d14b0c1d:getPixels\n",
            "Please wait ...\n",
            "Data downloaded to /content/temp_mapbiomas_2011.tif\n",
            "Generating URL ...\n",
            "Downloading data from https://earthengine.googleapis.com/v1/projects/ee-aisabellaguimaraesf/thumbnails/edea08ac13f35b45460299861f6529d8-c370830a3646acc35a31601a11c58c19:getPixels\n",
            "Please wait ...\n",
            "Data downloaded to /content/temp_mapbiomas_2012.tif\n",
            "Generating URL ...\n",
            "Downloading data from https://earthengine.googleapis.com/v1/projects/ee-aisabellaguimaraesf/thumbnails/801e2a4d0d4da4025d32d61b2736a9f3-d5cf22966e9d4b8dd8932e993c32bcfa:getPixels\n",
            "Please wait ...\n",
            "Data downloaded to /content/temp_mapbiomas_2013.tif\n",
            "Generating URL ...\n",
            "Downloading data from https://earthengine.googleapis.com/v1/projects/ee-aisabellaguimaraesf/thumbnails/8d5686f25e92878f1ee4369ce2bdcc62-ae7ad56c5104c7444db8e47a1df18cd5:getPixels\n",
            "Please wait ...\n",
            "Data downloaded to /content/temp_mapbiomas_2014.tif\n",
            "Generating URL ...\n",
            "Downloading data from https://earthengine.googleapis.com/v1/projects/ee-aisabellaguimaraesf/thumbnails/5077c6824a46555bf8a0f6b7d00c683a-9cf7ddcce383e5e4c00632cbb8b58a95:getPixels\n",
            "Please wait ...\n",
            "Data downloaded to /content/temp_mapbiomas_2015.tif\n",
            "Generating URL ...\n",
            "Downloading data from https://earthengine.googleapis.com/v1/projects/ee-aisabellaguimaraesf/thumbnails/3e8e53b5391344e64f6a192e740f7461-7d79f6d4ea7f2225d4ce4f8dc1c90c0d:getPixels\n",
            "Please wait ...\n",
            "Data downloaded to /content/temp_mapbiomas_2016.tif\n",
            "Generating URL ...\n",
            "Downloading data from https://earthengine.googleapis.com/v1/projects/ee-aisabellaguimaraesf/thumbnails/c59ad93a48f8868cb1d8384137bb8990-4a3fe92af667a968101781248c1914b4:getPixels\n",
            "Please wait ...\n",
            "Data downloaded to /content/temp_mapbiomas_2017.tif\n",
            "Generating URL ...\n",
            "Downloading data from https://earthengine.googleapis.com/v1/projects/ee-aisabellaguimaraesf/thumbnails/0590059ae0e54e69a9b4fdd779a1c846-2aa6d004a78358b374c65cd7f711b387:getPixels\n",
            "Please wait ...\n",
            "Data downloaded to /content/temp_mapbiomas_2018.tif\n",
            "Generating URL ...\n",
            "Downloading data from https://earthengine.googleapis.com/v1/projects/ee-aisabellaguimaraesf/thumbnails/2b4e1f28d13e86d80f35bc5326efcbf0-ab683784fd2218c96fe5695706bbd2c4:getPixels\n",
            "Please wait ...\n",
            "Data downloaded to /content/temp_mapbiomas_2019.tif\n",
            "Generating URL ...\n",
            "Downloading data from https://earthengine.googleapis.com/v1/projects/ee-aisabellaguimaraesf/thumbnails/3c8d1e7acc13a047ec05548b6f963c22-7a5a914437ae7c9b599ec72c11bdf8a7:getPixels\n",
            "Please wait ...\n",
            "Data downloaded to /content/temp_mapbiomas_2020.tif\n",
            "Generating URL ...\n",
            "Downloading data from https://earthengine.googleapis.com/v1/projects/ee-aisabellaguimaraesf/thumbnails/07f4a45525d9da1df948e1ca8a070ac2-34c75c571379d6adf9bccfbc4c663e9e:getPixels\n",
            "Please wait ...\n",
            "Data downloaded to /content/temp_mapbiomas_2021.tif\n",
            "Generating URL ...\n",
            "Downloading data from https://earthengine.googleapis.com/v1/projects/ee-aisabellaguimaraesf/thumbnails/3d27f04b9d2cd5364488c61ea577c25e-87de77d03def04dd1b6b5de440ed98fd:getPixels\n",
            "Please wait ...\n",
            "Data downloaded to /content/temp_mapbiomas_2022.tif\n",
            "Tempo de execução: 42.77634525299072 segundos\n"
          ]
        }
      ]
    },
    {
      "cell_type": "code",
      "execution_count": 7,
      "metadata": {
        "colab": {
          "base_uri": "https://localhost:8080/",
          "height": 72
        },
        "id": "dbUqfJPQl0fG",
        "outputId": "61e35433-675e-4cd7-b038-2a7d036b7e1e"
      },
      "outputs": [
        {
          "output_type": "display_data",
          "data": {
            "text/plain": [
              "<IPython.core.display.HTML object>"
            ],
            "text/html": [
              "\n",
              "            <style>\n",
              "                .geemap-dark {\n",
              "                    --jp-widgets-color: white;\n",
              "                    --jp-widgets-label-color: white;\n",
              "                    --jp-ui-font-color1: white;\n",
              "                    --jp-layout-color2: #454545;\n",
              "                    background-color: #383838;\n",
              "                }\n",
              "\n",
              "                .geemap-dark .jupyter-button {\n",
              "                    --jp-layout-color3: #383838;\n",
              "                }\n",
              "\n",
              "                .geemap-colab {\n",
              "                    background-color: var(--colab-primary-surface-color, white);\n",
              "                }\n",
              "\n",
              "                .geemap-colab .jupyter-button {\n",
              "                    --jp-layout-color3: var(--colab-primary-surface-color, white);\n",
              "                }\n",
              "            </style>\n",
              "            "
            ]
          },
          "metadata": {}
        },
        {
          "output_type": "stream",
          "name": "stderr",
          "text": [
            "<ipython-input-7-b84eb1057583>:2: UserWarning: Geometry is in a geographic CRS. Results from 'centroid' are likely incorrect. Use 'GeoSeries.to_crs()' to re-project geometries to a projected CRS before this operation.\n",
            "\n",
            "  centroide = aoi.centroid.geometry.iloc[0]\n"
          ]
        }
      ],
      "source": [
        "# Extrair latitude e longitude\n",
        "centroide = aoi.centroid.geometry.iloc[0]\n",
        "lon = centroide.x\n",
        "lat = centroide.y\n",
        "\n",
        "# Legenda Mapbiomas\n",
        "# https://brasil.mapbiomas.org/wp-content/uploads/sites/4/2023/09/Codigos-da-legenda-colecao-8-csv.zip\n",
        "codigos = pd.read_csv('Codigos-da-legenda-colecao-8.csv', sep=';')\n",
        "codigos.head()\n",
        "\n",
        "# Criar dicionário com as cores correspondentes às classes\n",
        "class_color_map = dict(zip(codigos['Class_ID'], codigos['Color']))"
      ]
    },
    {
      "cell_type": "code",
      "execution_count": 8,
      "metadata": {
        "colab": {
          "base_uri": "https://localhost:8080/",
          "height": 17
        },
        "id": "i7zrFVZi11rh",
        "outputId": "11cf1c9a-a54d-4050-e563-e02c2c00a209"
      },
      "outputs": [
        {
          "output_type": "display_data",
          "data": {
            "text/plain": [
              "<IPython.core.display.HTML object>"
            ],
            "text/html": [
              "\n",
              "            <style>\n",
              "                .geemap-dark {\n",
              "                    --jp-widgets-color: white;\n",
              "                    --jp-widgets-label-color: white;\n",
              "                    --jp-ui-font-color1: white;\n",
              "                    --jp-layout-color2: #454545;\n",
              "                    background-color: #383838;\n",
              "                }\n",
              "\n",
              "                .geemap-dark .jupyter-button {\n",
              "                    --jp-layout-color3: #383838;\n",
              "                }\n",
              "\n",
              "                .geemap-colab {\n",
              "                    background-color: var(--colab-primary-surface-color, white);\n",
              "                }\n",
              "\n",
              "                .geemap-colab .jupyter-button {\n",
              "                    --jp-layout-color3: var(--colab-primary-surface-color, white);\n",
              "                }\n",
              "            </style>\n",
              "            "
            ]
          },
          "metadata": {}
        }
      ],
      "source": [
        "# Função para converter GeoDataFrame em GeoJSON\n",
        "def gdf_to_geojson(gdf, properties, date, class_color_map):\n",
        "    features = []\n",
        "    for _, row in gdf.iterrows():\n",
        "        feature = {\n",
        "            'type': 'Feature',\n",
        "            'geometry': mapping(row.geometry),\n",
        "            'properties': {prop: row[prop] for prop in properties}\n",
        "        }\n",
        "        # Adicionar propriedade de cor com base na classe LULC\n",
        "        lulc_value = row[properties[0]]\n",
        "        feature['properties']['color'] = class_color_map.get(lulc_value, \"#000000\")  # Preto como fallback\n",
        "        # Adicionar a propriedade de tempo\n",
        "        feature['properties']['time'] = date\n",
        "        # Adicionar o nome da classe LULC\n",
        "        label = codigos.loc[codigos[\"Class_ID\"] == lulc_value, \"Description\"].values\n",
        "        if len(label) > 0:\n",
        "            feature['properties']['class_name'] = label[0]\n",
        "        else:\n",
        "            feature['properties']['class_name'] = f'Class {lulc_value}'  # Rótulo padrão se a classe não existir em 'codigos'\n",
        "        features.append(feature)\n",
        "    return {'type': 'FeatureCollection', 'features': features}\n",
        "\n",
        "# Função de estilo para o GeoJSON\n",
        "def style_function(feature):\n",
        "    return {\n",
        "        'fillColor': feature['properties']['color'],\n",
        "        'color': None,\n",
        "        'weight': 0,\n",
        "        'fillOpacity': 1,\n",
        "    }"
      ]
    },
    {
      "cell_type": "code",
      "source": [
        "# Lista para armazenar os GeoJSONs\n",
        "geojson_list = []\n",
        "unique_classes = set()  # Conjunto para armazenar as classes únicas\n",
        "\n",
        "# Iterar pelos anos e converter os GeoDataFrames para GeoJSON\n",
        "for ano_plot in range(2012, 2023):\n",
        "    gdf = lulc_by_year[ano_plot]\n",
        "    # Converter valores float para inteiros na coluna lulc_ano\n",
        "    gdf[f'lulc_{ano_plot}'] = gdf[f'lulc_{ano_plot}'].astype(int)\n",
        "    # Adicionar classes únicas ao conjunto\n",
        "    unique_classes.update(gdf[f'lulc_{ano_plot}'].unique())\n",
        "    # Converter GeoDataFrame para GeoJSON\n",
        "    geojson = gdf_to_geojson(gdf, properties=[f'lulc_{ano_plot}'], date=f'{ano_plot}-01-01', class_color_map=class_color_map)\n",
        "    geojson_list.append(geojson)\n",
        "\n",
        "# Criar uma lista de GeoJSONs com estilo aplicado\n",
        "styled_features = []\n",
        "for geojson in geojson_list:\n",
        "    for feature in geojson['features']:\n",
        "        feature['properties']['style'] = style_function(feature)\n",
        "        styled_features.append(feature)"
      ],
      "metadata": {
        "colab": {
          "base_uri": "https://localhost:8080/",
          "height": 17
        },
        "id": "AqNzotUx1jn9",
        "outputId": "bda72c0f-502d-4f00-f291-45e28b51984c"
      },
      "execution_count": 11,
      "outputs": [
        {
          "output_type": "display_data",
          "data": {
            "text/plain": [
              "<IPython.core.display.HTML object>"
            ],
            "text/html": [
              "\n",
              "            <style>\n",
              "                .geemap-dark {\n",
              "                    --jp-widgets-color: white;\n",
              "                    --jp-widgets-label-color: white;\n",
              "                    --jp-ui-font-color1: white;\n",
              "                    --jp-layout-color2: #454545;\n",
              "                    background-color: #383838;\n",
              "                }\n",
              "\n",
              "                .geemap-dark .jupyter-button {\n",
              "                    --jp-layout-color3: #383838;\n",
              "                }\n",
              "\n",
              "                .geemap-colab {\n",
              "                    background-color: var(--colab-primary-surface-color, white);\n",
              "                }\n",
              "\n",
              "                .geemap-colab .jupyter-button {\n",
              "                    --jp-layout-color3: var(--colab-primary-surface-color, white);\n",
              "                }\n",
              "            </style>\n",
              "            "
            ]
          },
          "metadata": {}
        }
      ]
    },
    {
      "cell_type": "code",
      "source": [
        "# Defina as coordenadas centrais da sua área de interesse\n",
        "centro_mapa = (lat, lon)\n",
        "zoom_inicial = 12.5\n",
        "\n",
        "# Criação do mapa base\n",
        "m = folium.Map(location=centro_mapa, zoom_start=zoom_inicial)\n",
        "\n",
        "# Criar GeoJsonTooltip\n",
        "tooltip = folium.GeoJsonTooltip(\n",
        "    fields=['class_name'],\n",
        "    aliases=['Class: '],\n",
        "    localize=True\n",
        ")\n",
        "\n",
        "# Adicionar camada temporal ao mapa\n",
        "timestamped_geojson = TimestampedGeoJson(\n",
        "    {\n",
        "        'type': 'FeatureCollection',\n",
        "        'features': styled_features\n",
        "    },\n",
        "    transition_time=200,  # tempo de transição entre os anos\n",
        "    period='P1Y',  # período de 1 ano\n",
        "    add_last_point=True,\n",
        "    auto_play=False,\n",
        "    loop=False,\n",
        "    max_speed=1,\n",
        "    loop_button=True,\n",
        "    date_options='YYYY',\n",
        "    time_slider_drag_update=True\n",
        ")\n",
        "\n",
        "# Adicionar camada temporal ao mapa\n",
        "timestamped_geojson.add_to(m)\n",
        "\n",
        "# Adicionar GeoJson com tooltips ao mapa\n",
        "folium.GeoJson(\n",
        "    timestamped_geojson.data,\n",
        "    style_function=style_function,\n",
        "    tooltip=tooltip\n",
        ").add_to(m)\n",
        "\n",
        "# Salvar o mapa como um arquivo HTML\n",
        "m.save('historico_LULC.html')"
      ],
      "metadata": {
        "colab": {
          "base_uri": "https://localhost:8080/",
          "height": 17
        },
        "id": "VYc7ElZE1usy",
        "outputId": "de2defc6-c149-45f6-a909-7586058f0a85"
      },
      "execution_count": 12,
      "outputs": [
        {
          "output_type": "display_data",
          "data": {
            "text/plain": [
              "<IPython.core.display.HTML object>"
            ],
            "text/html": [
              "\n",
              "            <style>\n",
              "                .geemap-dark {\n",
              "                    --jp-widgets-color: white;\n",
              "                    --jp-widgets-label-color: white;\n",
              "                    --jp-ui-font-color1: white;\n",
              "                    --jp-layout-color2: #454545;\n",
              "                    background-color: #383838;\n",
              "                }\n",
              "\n",
              "                .geemap-dark .jupyter-button {\n",
              "                    --jp-layout-color3: #383838;\n",
              "                }\n",
              "\n",
              "                .geemap-colab {\n",
              "                    background-color: var(--colab-primary-surface-color, white);\n",
              "                }\n",
              "\n",
              "                .geemap-colab .jupyter-button {\n",
              "                    --jp-layout-color3: var(--colab-primary-surface-color, white);\n",
              "                }\n",
              "            </style>\n",
              "            "
            ]
          },
          "metadata": {}
        }
      ]
    }
  ],
  "metadata": {
    "colab": {
      "provenance": [],
      "gpuType": "T4",
      "include_colab_link": true
    },
    "kernelspec": {
      "display_name": "Python 3",
      "name": "python3"
    },
    "language_info": {
      "name": "python"
    },
    "accelerator": "GPU"
  },
  "nbformat": 4,
  "nbformat_minor": 0
}